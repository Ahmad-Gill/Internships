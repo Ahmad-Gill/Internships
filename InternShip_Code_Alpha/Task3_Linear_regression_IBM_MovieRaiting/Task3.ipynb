{
 "cells": [
  {
   "cell_type": "markdown",
   "metadata": {},
   "source": [
    "# Libraries"
   ]
  },
  {
   "cell_type": "code",
   "execution_count": 1,
   "metadata": {},
   "outputs": [],
   "source": [
    "import pandas as pd\n",
    "from sklearn.model_selection import train_test_split\n",
    "from sklearn.metrics import mean_squared_error\n",
    "from sklearn.impute import SimpleImputer\n",
    "from sklearn.preprocessing import OneHotEncoder, StandardScaler\n",
    "from sklearn.feature_selection import SelectKBest, f_regression\n",
    "from sklearn.linear_model import LinearRegression, Ridge\n",
    "from sklearn.ensemble import GradientBoostingRegressor\n",
    "from sklearn.metrics import mean_squared_error, mean_absolute_error, r2_score\n",
    "from sklearn.linear_model import LinearRegression\n",
    "from sklearn.model_selection import train_test_split\n",
    "from sklearn.model_selection import cross_val_score\n",
    "import matplotlib.pyplot as plt\n",
    "import seaborn as sns"
   ]
  },
  {
   "cell_type": "markdown",
   "metadata": {},
   "source": [
    "# Load DatA Set"
   ]
  },
  {
   "cell_type": "code",
   "execution_count": 2,
   "metadata": {},
   "outputs": [],
   "source": [
    "def load_data(file_path):\n",
    "    \"\"\"Function to load movie data from a file\"\"\"\n",
    "    data = pd.read_csv(file_path, encoding='latin-1') \n",
    "    print(data.head())\n",
    "    return data"
   ]
  },
  {
   "cell_type": "markdown",
   "metadata": {},
   "source": [
    "# Columns Clasification "
   ]
  },
  {
   "cell_type": "code",
   "execution_count": 3,
   "metadata": {},
   "outputs": [],
   "source": [
    "def classify_columns(data_frame):\n",
    "    \"\"\"Function to classify columns as categorical or numeric\"\"\"\n",
    "    categorical_columns = data_frame.select_dtypes(include=['object']).columns\n",
    "    numeric_columns = data_frame.select_dtypes(include=['int64', 'float64']).columns\n",
    "    \n",
    "    return list(categorical_columns), list(numeric_columns)"
   ]
  },
  {
   "cell_type": "markdown",
   "metadata": {},
   "source": [
    "# Pre Processing "
   ]
  },
  {
   "cell_type": "code",
   "execution_count": 14,
   "metadata": {},
   "outputs": [],
   "source": [
    "\n",
    "from sklearn.preprocessing import LabelEncoder\n",
    "\n",
    "def preprocess_categorical_data(data_frame, column_name):\n",
    "    \"\"\"Function to preprocess categorical data\"\"\"\n",
    "    label_encoder = LabelEncoder()\n",
    "    data_frame[column_name] = label_encoder.fit_transform(data_frame[column_name])\n",
    "    \n",
    "    return data_frame\n",
    "\n",
    "def preprocess_numeric_data(data_frame, column_name):\n",
    "    \"\"\"Function to preprocess numeric data\"\"\"\n",
    "    imputer = SimpleImputer(strategy='median')\n",
    "    data_frame[column_name] = imputer.fit_transform(data_frame[[column_name]])\n",
    "    scaler = StandardScaler()\n",
    "    data_frame[column_name] = scaler.fit_transform(data_frame[[column_name]])\n",
    "\n",
    "    return data_frame"
   ]
  },
  {
   "cell_type": "markdown",
   "metadata": {},
   "source": [
    "# Remove Outliers"
   ]
  },
  {
   "cell_type": "code",
   "execution_count": 5,
   "metadata": {},
   "outputs": [],
   "source": [
    "def remove_numeric_outliers(df, multiplier=1.5, inplace=False):\n",
    "    \"\"\"Function to remove outliers from numeric columns\"\"\"\n",
    "    numeric_columns = df.select_dtypes(include=['float64', 'int64']).columns\n",
    "    for column in numeric_columns:\n",
    "        q1 = df[column].quantile(0.25)\n",
    "        q3 = df[column].quantile(0.75)\n",
    "        iqr = q3 - q1\n",
    "        lower_bound = q1 - multiplier * iqr\n",
    "        upper_bound = q3 + multiplier * iqr\n",
    "        if inplace:\n",
    "            df.drop(df[(df[column] < lower_bound) | (df[column] > upper_bound)].index, inplace=True)\n",
    "        else:\n",
    "            df = df[(df[column] >= lower_bound) & (df[column] <= upper_bound)]\n",
    "    if not inplace:\n",
    "        return df\n"
   ]
  },
  {
   "cell_type": "markdown",
   "metadata": {},
   "source": [
    "# Feature Selection "
   ]
  },
  {
   "cell_type": "code",
   "execution_count": 6,
   "metadata": {},
   "outputs": [],
   "source": [
    "def feature_selection(dataset, target_variable, k=5):\n",
    "    if target_variable not in dataset.columns:\n",
    "        raise ValueError(f\"Target variable '{target_variable}' not found in the dataset columns.\")\n",
    "    X = dataset.drop(target_variable, axis=1)\n",
    "    y = dataset[target_variable]\n",
    "    k_best = SelectKBest(score_func=f_regression, k=k)\n",
    "    X_selected = k_best.fit_transform(X, y)\n",
    "    selected_feature_indices = k_best.get_support(indices=True)\n",
    "    selected_columns = X.columns[selected_feature_indices]\n",
    "    if target_variable not in selected_columns:\n",
    "        selected_columns = [target_variable] + selected_columns.tolist()\n",
    "\n",
    "    selected_dataset = dataset[selected_columns]\n",
    "\n",
    "    return selected_dataset, dataset[target_variable]"
   ]
  },
  {
   "cell_type": "markdown",
   "metadata": {},
   "source": [
    "# Model Selection "
   ]
  },
  {
   "cell_type": "code",
   "execution_count": 7,
   "metadata": {},
   "outputs": [],
   "source": [
    "def train_and_evaluate_models(X_train, y_train, X_test, y_test, target_variable):\n",
    "    if target_variable != 'rating':\n",
    "        raise ValueError(\"Invalid target variable name. Expected 'rating' for regression.\")\n",
    "    \n",
    "    # Initialize and fit regression models\n",
    "    linear_regression_model = LinearRegression()\n",
    "    ridge_regression_model = Ridge(random_state=42)\n",
    "    gradient_boosting_model = GradientBoostingRegressor(random_state=42)\n",
    "    \n",
    "    linear_regression_model.fit(X_train, y_train)\n",
    "    ridge_regression_model.fit(X_train, y_train)\n",
    "    gradient_boosting_model.fit(X_train, y_train)\n",
    "    \n",
    "    # Evaluate regression models\n",
    "    linear_regression_predictions = linear_regression_model.predict(X_test)\n",
    "    ridge_regression_predictions = ridge_regression_model.predict(X_test)\n",
    "    gradient_boosting_predictions = gradient_boosting_model.predict(X_test)\n",
    "    \n",
    "    linear_regression_mse = mean_squared_error(y_test, linear_regression_predictions)\n",
    "    ridge_regression_mse = mean_squared_error(y_test, ridge_regression_predictions)\n",
    "    gradient_boosting_mse = mean_squared_error(y_test, gradient_boosting_predictions)\n",
    "    \n",
    "    print(\"Linear Regression Mean Squared Error:\", linear_regression_mse)\n",
    "    print(\"Ridge Regression Mean Squared Error:\", ridge_regression_mse)\n",
    "    print(\"Gradient Boosting Regression Mean Squared Error:\", gradient_boosting_mse)\n",
    "    \n",
    "    # Output the best model\n",
    "    best_model = min([\n",
    "        ('Linear Regression', linear_regression_mse),\n",
    "        ('Ridge Regression', ridge_regression_mse),\n",
    "        ('Gradient Boosting Regression', gradient_boosting_mse)\n",
    "    ], key=lambda x: x[1])\n",
    "\n",
    "    print(f\"\\nBest Model: {best_model[0]} with Mean Squared Error: {best_model[1]}\")\n",
    "\n",
    "    return best_model[0], best_model[1]"
   ]
  },
  {
   "cell_type": "markdown",
   "metadata": {},
   "source": [
    "# Train Best MOdel "
   ]
  },
  {
   "cell_type": "code",
   "execution_count": 8,
   "metadata": {},
   "outputs": [],
   "source": [
    "from sklearn.metrics import mean_squared_error, mean_absolute_error, r2_score\n",
    "\n",
    "def train_best_model(X_train, y_train, X_test, y_test, model, eval_metric='mse'):\n",
    "    model.fit(X_train, y_train)\n",
    "    predictions = model.predict(X_test)\n",
    "    if eval_metric == 'mse':\n",
    "        metric_value = mean_squared_error(y_test, predictions)\n",
    "    elif eval_metric == 'mae':\n",
    "        metric_value = mean_absolute_error(y_test, predictions)\n",
    "    elif eval_metric == 'r2':\n",
    "        metric_value = r2_score(y_test, predictions)\n",
    "    else:\n",
    "        raise ValueError(f\"Invalid evaluation metric: {eval_metric}. Supported metrics are 'mse', 'mae', and 'r2'.\")\n",
    "\n",
    "    # Print evaluation metric\n",
    "    print(f\"Model: {type(model).__name__} - {eval_metric.capitalize()}: {metric_value}\")\n",
    "\n",
    "    return metric_value\n",
    "\n",
    "\n"
   ]
  },
  {
   "cell_type": "markdown",
   "metadata": {},
   "source": [
    "# Pl0ts "
   ]
  },
  {
   "cell_type": "code",
   "execution_count": 9,
   "metadata": {},
   "outputs": [],
   "source": [
    "def plot_box_plots(data):\n",
    "    plt.figure(figsize=(10, 6))\n",
    "    sns.boxplot(data=data)\n",
    "    plt.title(\"Box Plot For Checking   Outliers\")\n",
    "    plt.xticks(rotation=45)\n",
    "    plt.show()\n",
    "\n",
    "def plot_histograms(X):\n",
    "    X.hist()\n",
    "    plt.suptitle('Histograms of Features')\n",
    "    plt.show()"
   ]
  },
  {
   "cell_type": "code",
   "execution_count": 17,
   "metadata": {},
   "outputs": [
    {
     "name": "stdout",
     "output_type": "stream",
     "text": [
      "                                 Name    Year Duration            Genre  \\\n",
      "0                                         NaN      NaN            Drama   \n",
      "1  #Gadhvi (He thought he was Gandhi)  (2019)  109 min            Drama   \n",
      "2                         #Homecoming  (2021)   90 min   Drama, Musical   \n",
      "3                             #Yaaram  (2019)  110 min  Comedy, Romance   \n",
      "4                   ...And Once Again  (2010)  105 min            Drama   \n",
      "\n",
      "   Rating Votes            Director       Actor 1             Actor 2  \\\n",
      "0     NaN   NaN       J.S. Randhawa      Manmauji              Birbal   \n",
      "1     7.0     8       Gaurav Bakshi  Rasika Dugal      Vivek Ghamande   \n",
      "2     NaN   NaN  Soumyajit Majumdar  Sayani Gupta   Plabita Borthakur   \n",
      "3     4.4    35          Ovais Khan       Prateik          Ishita Raj   \n",
      "4     NaN   NaN        Amol Palekar  Rajat Kapoor  Rituparna Sengupta   \n",
      "\n",
      "           Actor 3  \n",
      "0  Rajendra Bhatia  \n",
      "1    Arvind Jangid  \n",
      "2       Roy Angana  \n",
      "3  Siddhant Kapoor  \n",
      "4      Antara Mali  \n"
     ]
    },
    {
     "data": {
      "image/png": "[encoded data removed]",
      "text/plain": [
       "<Figure size 1000x600 with 1 Axes>"
      ]
     },
     "metadata": {},
     "output_type": "display_data"
    },
    {
     "name": "stdout",
     "output_type": "stream",
     "text": [
      "\n",
      "Categorical Columns: ['Name', 'Year', 'Duration', 'Genre', 'Votes', 'Director', 'Actor 1', 'Actor 2', 'Actor 3']\n",
      "\n",
      "Numeric Columns: ['Rating']\n",
      "\n",
      " plot to check the outliers\n",
      " \n",
      "\n",
      "\n",
      " Data Set  <bound method NDFrame.head of         Name  Year  Duration  Genre    Rating  Votes  Director  Actor 1  \\\n",
      "0          0   102       182    299  0.081646   2034      1926     2250   \n",
      "1          1    98         9    299  1.091258   1849      1548     3280   \n",
      "2          2   100       172    351  0.081646   2034      5123     3713   \n",
      "3          3    98        10    228 -1.533732   1169      3319     2917   \n",
      "4          7    89         5    299  0.081646   2034       385     3112   \n",
      "...      ...   ...       ...    ...       ...    ...       ...      ...   \n",
      "15504  13832    67       182      0 -1.331810    368      2690     2586   \n",
      "15505  13834    78        29     40 -1.432771   1687      2499      227   \n",
      "15506  13835    84       182      0  0.081646   2034      2424     3609   \n",
      "15507  13836    67       182      0  0.081646   2034      5938     4718   \n",
      "15508  13833    77        30     40  0.283569    794      2195     1139   \n",
      "\n",
      "       Actor 2  Actor 3  \n",
      "0          800     3108  \n",
      "1         4790      527  \n",
      "2         2866     3450  \n",
      "3         1504     4020  \n",
      "4         3462      405  \n",
      "...        ...      ...  \n",
      "15504     4299     4262  \n",
      "15505     4532      519  \n",
      "15506     4891     4820  \n",
      "15507     4891     4820  \n",
      "15508     1589      490  \n",
      "\n",
      "[15509 rows x 10 columns]>\n",
      "\n",
      "Training and Evaluating Linear Regression Model:\n",
      "Model: LinearRegression - Mse: 0.9653708468885057\n",
      "Model: LinearRegression - Mae: 0.6127350155487371\n"
     ]
    }
   ],
   "source": [
    "def main():\n",
    "    file_path = \"IMDb Movies India.csv\"  \n",
    "    data = load_data(file_path)\n",
    "   # data = data.sample(frac=0.1, random_state=42)\n",
    "    categorical_columns, numeric_columns = classify_columns(data)\n",
    "    for column in categorical_columns:\n",
    "        data = preprocess_categorical_data(data, column)\n",
    "    for column in numeric_columns:\n",
    "        data = preprocess_numeric_data(data, column)\n",
    "    plot_box_plots(data)\n",
    "    print(\"\\nCategorical Columns:\", categorical_columns)\n",
    "    print(\"\\nNumeric Columns:\", numeric_columns)\n",
    "    print(\"\\n plot to check the outliers\\n \")\n",
    "    print(\"\\n\\n Data Set \",data.head)\n",
    "    try:\n",
    "        selected_features, target_variable = feature_selection(data, 'Rating', k=5) \n",
    "    except ValueError as e:\n",
    "        print(e)\n",
    "        return\n",
    "    X = selected_features.drop('Rating', axis=1)\n",
    "    y = selected_features['Rating']\n",
    "    X_train, X_test, y_train, y_test = train_test_split(X, y, test_size=0.2, random_state=42)\n",
    "    print(\"\\nTraining and Evaluating Linear Regression Model:\")\n",
    "    model = LinearRegression()\n",
    "\n",
    "    mse = train_best_model(X_train, y_train, X_test, y_test, model, eval_metric='mse')\n",
    "    mae = train_best_model(X_train, y_train, X_test, y_test, model, eval_metric='mae')\n",
    "\n",
    "if __name__ == \"__main__\":\n",
    "    main()\n"
   ]
  },
  {
   "cell_type": "markdown",
   "metadata": {},
   "source": []
  }
 ],
 "metadata": {
  "kernelspec": {
   "display_name": "Python 3",
   "language": "python",
   "name": "python3"
  },
  "language_info": {
   "codemirror_mode": {
    "name": "ipython",
    "version": 3
   },
   "file_extension": ".py",
   "mimetype": "text/x-python",
   "name": "python",
   "nbconvert_exporter": "python",
   "pygments_lexer": "ipython3",
   "version": "3.12.1"
  }
 },
 "nbformat": 4,
 "nbformat_minor": 2
}
