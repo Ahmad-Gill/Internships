{
 "cells": [
  {
   "cell_type": "markdown",
   "metadata": {},
   "source": [
    "# Libraries\n"
   ]
  },
  {
   "cell_type": "code",
   "execution_count": 2,
   "metadata": {},
   "outputs": [],
   "source": [
    "import pandas as pd\n",
    "from sklearn.impute import SimpleImputer\n",
    "from sklearn.preprocessing import StandardScaler, OneHotEncoder\n",
    "from sklearn.feature_selection import SelectKBest, f_classif\n",
    "from sklearn.model_selection import train_test_split\n",
    "from sklearn.ensemble import RandomForestClassifier\n",
    "from sklearn.metrics import accuracy_score, classification_report\n",
    "from sklearn.model_selection import train_test_split\n",
    "from sklearn.linear_model import LogisticRegression\n",
    "from sklearn.ensemble import RandomForestClassifier\n",
    "from xgboost import XGBClassifier\n",
    "from sklearn.metrics import accuracy_score, classification_report\n",
    "from sklearn.metrics import confusion_matrix\n",
    "import seaborn as sns\n",
    "import matplotlib.pyplot as plt\n",
    "from sklearn.model_selection import GridSearchCV"
   ]
  },
  {
   "cell_type": "markdown",
   "metadata": {},
   "source": [
    "# Read Data"
   ]
  },
  {
   "cell_type": "code",
   "execution_count": 3,
   "metadata": {},
   "outputs": [],
   "source": [
    "def read_csv(file_path):\n",
    "    df = pd.read_csv(file_path)\n",
    "    print(df.head())\n",
    "    return df\n"
   ]
  },
  {
   "cell_type": "markdown",
   "metadata": {},
   "source": [
    "# Data Classification"
   ]
  },
  {
   "cell_type": "code",
   "execution_count": 4,
   "metadata": {},
   "outputs": [],
   "source": [
    "def classify_columns(data_frame):\n",
    "    categorical_columns = data_frame.select_dtypes(include=['object']).columns\n",
    "    numeric_columns = data_frame.select_dtypes(include=['int64', 'float64']).columns\n",
    "    \n",
    "    return list(categorical_columns), list(numeric_columns)"
   ]
  },
  {
   "cell_type": "markdown",
   "metadata": {},
   "source": [
    "# Basic Preprocessing "
   ]
  },
  {
   "cell_type": "code",
   "execution_count": 5,
   "metadata": {},
   "outputs": [],
   "source": [
    "def preprocess_categorical_data(data_frame, column_name):\n",
    "    # Impute missing values\n",
    "    if column_name == 'Sex':\n",
    "        mapping = {'male': 0, 'female': 1}  # Define mapping for Sex column\n",
    "    elif column_name == 'Embarked':\n",
    "        mapping = {'S': 0, 'C': 1, 'Q': 2}  # Define mapping for Embarked column\n",
    "    else:\n",
    "        imputer = SimpleImputer(strategy='most_frequent')\n",
    "        transformed_values = imputer.fit_transform(data_frame[[column_name]])\n",
    "        data_frame.iloc[:, data_frame.columns.get_loc(column_name)] = transformed_values.ravel()  # Assign transformed values using iloc\n",
    "    # Map categorical values to numerical values\n",
    "\n",
    "\n",
    "    data_frame[column_name] = data_frame[column_name].map(mapping)\n",
    "\n",
    "    return data_frame\n",
    "\n",
    "\n",
    "def preprocess_numeric_data(data_frame, column_name):\n",
    "    # Impute missing values\n",
    "    imputer = SimpleImputer(strategy='median')\n",
    "    data_frame[column_name] = imputer.fit_transform(data_frame[[column_name]])\n",
    "\n",
    "    # Scale numeric values\n",
    "    scaler = StandardScaler()\n",
    "    data_frame[column_name] = scaler.fit_transform(data_frame[[column_name]])\n",
    "\n",
    "    return data_frame"
   ]
  },
  {
   "cell_type": "markdown",
   "metadata": {},
   "source": [
    "# Remove Outliers"
   ]
  },
  {
   "cell_type": "code",
   "execution_count": 6,
   "metadata": {},
   "outputs": [],
   "source": [
    "def remove_numeric_outliers(df, multiplier=1):\n",
    "    numeric_columns = df.select_dtypes(include=['float64', 'int64']).columns\n",
    "    for column in numeric_columns:\n",
    "        if column != 'Survived': \n",
    "            q1 = df[column].quantile(0.25)\n",
    "            q3 = df[column].quantile(0.75)\n",
    "            iqr = q3 - q1\n",
    "            lower_bound = q1 - multiplier * iqr\n",
    "            upper_bound = q3 + multiplier * iqr\n",
    "            df = df[(df[column] >= lower_bound) & (df[column] <= upper_bound)]\n",
    "    return df\n"
   ]
  },
  {
   "cell_type": "markdown",
   "metadata": {},
   "source": [
    "# Feature Selection "
   ]
  },
  {
   "cell_type": "code",
   "execution_count": 7,
   "metadata": {},
   "outputs": [],
   "source": [
    "def feature_selection(dataset, target_variable, k=5):\n",
    "    if target_variable not in dataset.columns:\n",
    "        raise ValueError(f\"Target variable '{target_variable}' not found in the dataset columns.\")\n",
    "    \n",
    "    # Specify the desired column names\n",
    "    selected_columns = ['Survived', 'Pclass', 'Sex', 'Age', 'SibSp', 'Parch', 'Fare', 'Embarked']\n",
    "    \n",
    "    # Check if the target variable is not already included in the selected columns\n",
    "    if target_variable not in selected_columns:\n",
    "        selected_columns = [target_variable] + selected_columns\n",
    "\n",
    "    try:\n",
    "        # Select only the specified columns\n",
    "        selected_dataset = dataset[selected_columns]\n",
    "    except KeyError as e:\n",
    "        # If any of the specified columns are not found in the dataset, raise an error\n",
    "        raise KeyError(f\"One or more specified columns not found in the dataset: {e}\")\n",
    "\n",
    "    return selected_dataset, dataset[target_variable]\n"
   ]
  },
  {
   "cell_type": "markdown",
   "metadata": {},
   "source": [
    "# Model Selection "
   ]
  },
  {
   "cell_type": "code",
   "execution_count": 8,
   "metadata": {},
   "outputs": [],
   "source": [
    "def train_and_evaluate_models(X_train, y_train, X_test, y_test, target_variable):\n",
    "    if target_variable == 'Survived':\n",
    "        y_train = y_train.astype(int)\n",
    "        y_test = y_test.astype(int)\n",
    "        logistic_regression_model = LogisticRegression(random_state=42)\n",
    "        random_forest_model = RandomForestClassifier(random_state=42)\n",
    "        xgboost_model = XGBClassifier(random_state=42)\n",
    "        logistic_regression_model.fit(X_train, y_train)\n",
    "        random_forest_model.fit(X_train, y_train)\n",
    "        xgboost_model.fit(X_train, y_train)\n",
    "        logistic_regression_predictions = logistic_regression_model.predict(X_test)\n",
    "        random_forest_predictions = random_forest_model.predict(X_test)\n",
    "        xgboost_predictions = xgboost_model.predict(X_test)\n",
    "        logistic_regression_accuracy = accuracy_score(y_test, logistic_regression_predictions)\n",
    "        random_forest_accuracy = accuracy_score(y_test, random_forest_predictions)\n",
    "        xgboost_accuracy = accuracy_score(y_test, xgboost_predictions)\n",
    "\n",
    "        print(\"Logistic Regression Accuracy:\", logistic_regression_accuracy)\n",
    "        print(\"Random Forest Accuracy:\", random_forest_accuracy)\n",
    "        print(\"XGBoost Accuracy:\", xgboost_accuracy)\n",
    "\n",
    "        # Output the best model\n",
    "        best_model = max([\n",
    "            ('Logistic Regression', logistic_regression_accuracy*100),\n",
    "            ('Random Forest', random_forest_accuracy*100),\n",
    "            ('XGBoost', xgboost_accuracy*100)\n",
    "        ], key=lambda x: x[1])\n",
    "\n",
    "        print(f\"\\nBest Model: {best_model[0]} with Accuracy: {best_model[1]}\")\n",
    "\n",
    "        return best_model[0], best_model[1]\n",
    "\n",
    "    else:\n",
    "        raise ValueError(\"Invalid target variable name\")\n",
    "\n"
   ]
  },
  {
   "cell_type": "markdown",
   "metadata": {},
   "source": [
    "# Best Model "
   ]
  },
  {
   "cell_type": "code",
   "execution_count": 9,
   "metadata": {},
   "outputs": [],
   "source": [
    "def train_best_model(X_train, y_train, X_test, y_test, model):\n",
    "    model.fit(X_train, y_train)\n",
    "    predictions = model.predict(X_test)\n",
    "    accuracy = accuracy_score(y_test, predictions)\n",
    "\n",
    "    print(f\"Model: {type(model).__name__} - Accuracy: {accuracy}\")\n",
    "\n",
    "    return accuracy"
   ]
  },
  {
   "cell_type": "markdown",
   "metadata": {},
   "source": [
    "# Plots"
   ]
  },
  {
   "cell_type": "code",
   "execution_count": 10,
   "metadata": {},
   "outputs": [],
   "source": [
    "def plot_box_plots(data):\n",
    "    plt.figure(figsize=(10, 6))\n",
    "    sns.boxplot(data=data)\n",
    "    plt.title(\"Box Plot For Checking   Outliers\")\n",
    "    plt.xticks(rotation=45)\n",
    "    plt.show()\n",
    "\n",
    "def plot_histograms(X):\n",
    "    X.hist()\n",
    "    plt.suptitle('Histograms of Features')\n",
    "    plt.show()"
   ]
  },
  {
   "cell_type": "markdown",
   "metadata": {},
   "source": [
    "# Main "
   ]
  },
  {
   "cell_type": "code",
   "execution_count": 11,
   "metadata": {},
   "outputs": [
    {
     "name": "stdout",
     "output_type": "stream",
     "text": [
      "   PassengerId  Survived  Pclass  \\\n",
      "0            1         0       3   \n",
      "1            2         1       1   \n",
      "2            3         1       3   \n",
      "3            4         1       1   \n",
      "4            5         0       3   \n",
      "\n",
      "                                                Name     Sex   Age  SibSp  \\\n",
      "0                            Braund, Mr. Owen Harris    male  22.0      1   \n",
      "1  Cumings, Mrs. John Bradley (Florence Briggs Th...  female  38.0      1   \n",
      "2                             Heikkinen, Miss. Laina  female  26.0      0   \n",
      "3       Futrelle, Mrs. Jacques Heath (Lily May Peel)  female  35.0      1   \n",
      "4                           Allen, Mr. William Henry    male  35.0      0   \n",
      "\n",
      "   Parch            Ticket     Fare Cabin Embarked  \n",
      "0      0         A/5 21171   7.2500   NaN        S  \n",
      "1      0          PC 17599  71.2833   C85        C  \n",
      "2      0  STON/O2. 3101282   7.9250   NaN        S  \n",
      "3      0            113803  53.1000  C123        S  \n",
      "4      0            373450   8.0500   NaN        S  \n",
      "\n",
      " Data Set \n",
      "\n",
      "Categorical Columns: ['Sex', 'Embarked']\n",
      "\n",
      "Numeric Columns: ['Survived', 'Pclass', 'Age', 'SibSp', 'Parch', 'Fare']\n",
      "\n",
      " plot to check the outliers\n",
      " \n"
     ]
    },
    {
     "data": {
      "image/png": "[encoded data removed]",
      "text/plain": [
       "<Figure size 1000x600 with 1 Axes>"
      ]
     },
     "metadata": {},
     "output_type": "display_data"
    },
    {
     "name": "stdout",
     "output_type": "stream",
     "text": [
      "\n",
      " preprocessed data \n",
      " \n",
      "Index(['Survived', 'Pclass', 'Sex', 'Age', 'SibSp', 'Parch', 'Fare',\n",
      "       'Embarked'],\n",
      "      dtype='object')\n",
      "<class 'numpy.ndarray'>\n",
      "   Survived    Pclass  Sex       Age     SibSp     Parch      Fare  Embarked\n",
      "0         0  0.827377    0 -0.565736  0.432793 -0.473674 -0.502445       0.0\n",
      "1         1 -1.566107    1  0.663861  0.432793 -0.473674  0.786845       1.0\n",
      "2         1  0.827377    1 -0.258337 -0.474545 -0.473674 -0.488854       0.0\n",
      "3         1 -1.566107    1  0.433312  0.432793 -0.473674  0.420730       0.0\n",
      "4         0  0.827377    0  0.433312 -0.474545 -0.473674 -0.486337       0.0\n"
     ]
    },
    {
     "data": {
      "image/png": "[encoded data removed]",
      "text/plain": [
       "<Figure size 800x600 with 2 Axes>"
      ]
     },
     "metadata": {},
     "output_type": "display_data"
    },
    {
     "name": "stdout",
     "output_type": "stream",
     "text": [
      "Confusion Matrix:\n",
      "[[105   0]\n",
      " [  0  74]]\n",
      "\n",
      "Classification Report:\n",
      "              precision    recall  f1-score   support\n",
      "\n",
      "Not Survived       1.00      1.00      1.00       105\n",
      "    Survived       1.00      1.00      1.00        74\n",
      "\n",
      "    accuracy                           1.00       179\n",
      "   macro avg       1.00      1.00      1.00       179\n",
      "weighted avg       1.00      1.00      1.00       179\n",
      "\n",
      "\n",
      "Overall Accuracy for Best Model: 100.0\n"
     ]
    }
   ],
   "source": [
    "import numpy as np\n",
    "from sklearn.preprocessing import LabelEncoder\n",
    "def main():\n",
    "    file_path = 'Titanic-Dataset.csv'\n",
    "    dataset = read_csv(file_path)\n",
    "    print(\"\\n Data Set \")\n",
    "    dataset, target_variable = feature_selection(dataset, 'Survived', k=5)\n",
    "    categorical_columns, numeric_columns = classify_columns(dataset)\n",
    "    print(\"\\nCategorical Columns:\", categorical_columns)\n",
    "    print(\"\\nNumeric Columns:\", numeric_columns)\n",
    "    print(\"\\n plot to check the outliers\\n \")\n",
    "    plot_box_plots(dataset)\n",
    "    for column in categorical_columns + numeric_columns:\n",
    "        if column in categorical_columns and column != 'Survived': \n",
    "            dataset = preprocess_categorical_data(dataset, column)\n",
    "        elif column != 'Survived':  \n",
    "            dataset = preprocess_numeric_data(dataset, column)\n",
    "    print(\"\\n preprocessed data \\n \")\n",
    "    print(dataset.columns)\n",
    "    survived_column = dataset['Survived']\n",
    "    label_encoder = LabelEncoder()\n",
    "    target_variable = label_encoder.fit_transform(survived_column)\n",
    "    print(type(target_variable))\n",
    "    print(dataset.head())\n",
    "    X_train, X_test, y_train, y_test = train_test_split(dataset, target_variable.astype(int), test_size=0.2, random_state=42)\n",
    "    X_train_no_outliers = remove_numeric_outliers(X_train)\n",
    "    best_model = RandomForestClassifier(random_state=42)\n",
    "    best_model.fit(X_train, y_train)\n",
    "    y_pred = best_model.predict(X_test)\n",
    "    cm = confusion_matrix(y_test, y_pred)\n",
    "    plt.figure(figsize=(8, 6))\n",
    "    sns.heatmap(cm, annot=True, fmt=\"d\", cmap=\"Blues\", xticklabels=['Not Survived', 'Survived'], yticklabels=['Not Survived', 'Survived'])\n",
    "    plt.xlabel('Predicted')\n",
    "    plt.ylabel('Actual')\n",
    "    plt.title('Confusion Matrix')\n",
    "    plt.show()\n",
    "    report = classification_report(y_test, y_pred, target_names=['Not Survived', 'Survived'])\n",
    "    print(\"Confusion Matrix:\")\n",
    "    print(cm)\n",
    "    print(\"\\nClassification Report:\")\n",
    "    print(report)\n",
    "    accuracy = accuracy_score(y_test, y_pred)\n",
    "    print(f\"\\nOverall Accuracy for Best Model: {accuracy*100}\")\n",
    "   \n",
    "\n",
    "    return best_model\n",
    "    \n",
    "\n",
    "\n",
    "if __name__ == \"__main__\":\n",
    "    best_model = main()\n",
    "\n"
   ]
  }
 ],
 "metadata": {
  "kernelspec": {
   "display_name": "Python 3",
   "language": "python",
   "name": "python3"
  },
  "language_info": {
   "codemirror_mode": {
    "name": "ipython",
    "version": 3
   },
   "file_extension": ".py",
   "mimetype": "text/x-python",
   "name": "python",
   "nbconvert_exporter": "python",
   "pygments_lexer": "ipython3",
   "version": "3.12.1"
  }
 },
 "nbformat": 4,
 "nbformat_minor": 2
}
